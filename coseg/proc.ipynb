{
 "cells": [
  {
   "cell_type": "code",
   "execution_count": 2,
   "metadata": {},
   "outputs": [],
   "source": [
    "# import necessary libraries\n",
    "\n",
    "import random\n",
    "import os, pickle\n",
    "import numpy as np\n",
    "from collections import OrderedDict"
   ]
  },
  {
   "cell_type": "code",
   "execution_count": 8,
   "metadata": {},
   "outputs": [],
   "source": [
    "# reuse processed or synthesized data from dcan\n",
    "\n",
    "data_path = '../dcan/data/syn/12m'\n",
    "out_path = 'data/syn/12m'\n",
    "\n",
    "names = os.listdir(data_path)\n",
    "for name in names:\n",
    "    # load image and segmentation\n",
    "    data = np.load(os.path.join(data_path, name))\n",
    "    seg = data[-1]\n",
    "    # compensate label imbalance\n",
    "    approx_nsamp = 10000\n",
    "    samp_locs = OrderedDict()\n",
    "    for cls in [1, 2, 3]:\n",
    "        locs = np.argwhere(seg == cls)\n",
    "        nsamp = min(approx_nsamp, len(locs))\n",
    "        nsamp = max(nsamp, int(np.ceil(0.1 * len(locs))))\n",
    "        samp = locs[random.sample(range(len(locs)), nsamp)]\n",
    "        if len(samp) != 0:\n",
    "            samp_locs[cls] = samp\n",
    "    with open(os.path.join(out_path, name[:-4]+'.pkl'), 'wb') as f:\n",
    "        pickle.dump(samp_locs, f)\n",
    "    np.save(os.path.join(out_path, name), data)"
   ]
  },
  {
   "cell_type": "code",
   "execution_count": 3,
   "metadata": {},
   "outputs": [],
   "source": [
    "# split dataset into train, valid, and test set\n",
    "\n",
    "data_path = 'data/processed/6m'\n",
    "\n",
    "names = os.listdir(data_path)\n",
    "random.shuffle(names)\n",
    "\n",
    "splits = OrderedDict()\n",
    "splits['train'] = names[:int(len(names)*0.7)]\n",
    "splits['valid'] = names[int(len(names)*0.7):int(len(names)*0.8)]\n",
    "splits['test'] = names[int(len(names)*0.8):]\n",
    "\n",
    "with open(os.path.join(data_path, 'splits.pkl'), 'wb') as f:\n",
    "    pickle.dump(splits, f)"
   ]
  }
 ],
 "metadata": {
  "kernelspec": {
   "display_name": "base",
   "language": "python",
   "name": "python3"
  },
  "language_info": {
   "codemirror_mode": {
    "name": "ipython",
    "version": 3
   },
   "file_extension": ".py",
   "mimetype": "text/x-python",
   "name": "python",
   "nbconvert_exporter": "python",
   "pygments_lexer": "ipython3",
   "version": "3.11.4"
  }
 },
 "nbformat": 4,
 "nbformat_minor": 2
}

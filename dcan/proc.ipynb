{
 "cells": [
  {
   "cell_type": "code",
   "execution_count": 7,
   "metadata": {},
   "outputs": [],
   "source": [
    "# import necessary libraries\n",
    "\n",
    "import os\n",
    "import numpy as np\n",
    "import SimpleITK as sitk\n",
    "from scipy.ndimage import binary_fill_holes"
   ]
  },
  {
   "cell_type": "code",
   "execution_count": 8,
   "metadata": {},
   "outputs": [],
   "source": [
    "# necessary utility functions\n",
    "\n",
    "def adjust_contrast(img):\n",
    "    bounds = np.percentile(img, [5, 99.9])\n",
    "    img = np.clip(img, *bounds)\n",
    "    return img\n",
    "\n",
    "def get_bbox(inp):\n",
    "    coords = np.where(inp != 0)\n",
    "    minz = np.min(coords[0])\n",
    "    maxz = np.max(coords[0]) + 1\n",
    "    minx = np.min(coords[1])\n",
    "    maxx = np.max(coords[1]) + 1\n",
    "    miny = np.min(coords[2])\n",
    "    maxy = np.max(coords[2]) + 1\n",
    "    return slice(minz, maxz), slice(minx, maxx), slice(miny, maxy)"
   ]
  },
  {
   "cell_type": "code",
   "execution_count": 9,
   "metadata": {},
   "outputs": [
    {
     "name": "stdout",
     "output_type": "stream",
     "text": [
      "[143. 118. 104.]\n"
     ]
    }
   ],
   "source": [
    "data_path = 'data/raw/6m'\n",
    "out_path = 'data/processed/6m'\n",
    "\n",
    "shapes = []\n",
    "names = os.listdir(data_path)\n",
    "for name in names:\n",
    "    t1 = sitk.GetArrayFromImage(sitk.ReadImage(os.path.join(data_path, name, f't1.nii.gz')))\n",
    "    t2 = sitk.GetArrayFromImage(sitk.ReadImage(os.path.join(data_path, name, f't2.nii.gz')))\n",
    "    seg = sitk.GetArrayFromImage(sitk.ReadImage(os.path.join(data_path, name, f'seg.nii.gz')))\n",
    "    # transpose to axial view\n",
    "    t1, t2, seg = np.transpose(t1, [1, 2, 0]), np.transpose(t2, [1, 2, 0]), np.transpose(seg, [1, 2, 0])\n",
    "    t1, t2 = adjust_contrast(t1), adjust_contrast(t2)\n",
    "    img = np.stack([t1, t2]).astype(np.float32)\n",
    "    # crop foreground regions\n",
    "    mask = np.zeros_like(seg).astype(bool)\n",
    "    for i in range(len(img)):\n",
    "        mask = mask | (img[i] != 0)\n",
    "    mask = binary_fill_holes(mask)\n",
    "    bbox = get_bbox(mask)\n",
    "    img = img[:, bbox[0], bbox[1], bbox[2]]\n",
    "    seg = seg[bbox[0], bbox[1], bbox[2]]\n",
    "    mask = mask[bbox[0], bbox[1], bbox[2]]\n",
    "    shapes.append(mask.shape)\n",
    "    # normalization\n",
    "    for i in range(len(img)):\n",
    "        img[i][mask] = (img[i][mask] - img[i][mask].min()) / (img[i][mask].max() - img[i][mask].min())\n",
    "        img[i][mask == 0] = 0\n",
    "    data = np.concatenate([img, seg[None]])\n",
    "    np.save(os.path.join(out_path, f'{name}.npy'), data)\n",
    "print(np.median(shapes, axis=0))"
   ]
  }
 ],
 "metadata": {
  "kernelspec": {
   "display_name": "base",
   "language": "python",
   "name": "python3"
  },
  "language_info": {
   "codemirror_mode": {
    "name": "ipython",
    "version": 3
   },
   "file_extension": ".py",
   "mimetype": "text/x-python",
   "name": "python",
   "nbconvert_exporter": "python",
   "pygments_lexer": "ipython3",
   "version": "3.11.4"
  }
 },
 "nbformat": 4,
 "nbformat_minor": 2
}
